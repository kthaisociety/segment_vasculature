{
 "cells": [
  {
   "cell_type": "code",
   "execution_count": 1,
   "metadata": {},
   "outputs": [
    {
     "name": "stdout",
     "output_type": "stream",
     "text": [
      "/workspaces/segment_vasculature/models\n"
     ]
    },
    {
     "name": "stderr",
     "output_type": "stream",
     "text": [
      "/usr/local/lib/python3.11/site-packages/IPython/core/magics/osm.py:417: UserWarning: using dhist requires you to install the `pickleshare` library.\n",
      "  self.shell.db['dhist'] = compress_dhist(dhist)[-100:]\n"
     ]
    }
   ],
   "source": [
    "%cd /workspaces/segment_vasculature/models/"
   ]
  },
  {
   "cell_type": "code",
   "execution_count": 2,
   "metadata": {},
   "outputs": [
    {
     "name": "stderr",
     "output_type": "stream",
     "text": [
      "Failed to detect the name of this notebook, you can set it manually with the WANDB_NOTEBOOK_NAME environment variable to enable code saving.\n",
      "\u001b[34m\u001b[1mwandb\u001b[0m: Currently logged in as: \u001b[33mtimothy-lindblom\u001b[0m. Use \u001b[1m`wandb login --relogin`\u001b[0m to force relogin\n"
     ]
    },
    {
     "data": {
      "text/plain": [
       "True"
      ]
     },
     "execution_count": 2,
     "metadata": {},
     "output_type": "execute_result"
    }
   ],
   "source": [
    "import wandb\n",
    "wandb.login()"
   ]
  },
  {
   "cell_type": "code",
   "execution_count": 3,
   "metadata": {},
   "outputs": [
    {
     "name": "stdout",
     "output_type": "stream",
     "text": [
      "kidney_1_dense: (1303, 912, 3)\n",
      "kidney_1_voi: (1928, 1928, 3)\n",
      "kidney_2: (1041, 1511, 3)\n",
      "kidney_3_sparse: (1706, 1510, 3)\n"
     ]
    }
   ],
   "source": [
    "import os\n",
    "import cv2\n",
    "from helpers.dataset_setup import TRAIN_FOLDER\n",
    "\n",
    "def movie_maker(image_folder, video_name):\n",
    "    images = [img for img in os.listdir(image_folder) if img.endswith(\".tif\")]\n",
    "    frame = cv2.imread(os.path.join(image_folder, images[0]))\n",
    "    height, width, layers = frame.shape\n",
    "\n",
    "    video = cv2.VideoWriter(video_name, 0, 5, (width,height))\n",
    "\n",
    "    for image in images:\n",
    "        video.write(cv2.imread(os.path.join(image_folder, image)))\n",
    "\n",
    "    cv2.destroyAllWindows()\n",
    "    video.release()\n",
    "\n",
    "# Get all folders in train/\n",
    "names = os.listdir(TRAIN_FOLDER)\n",
    "for i, name in enumerate(names):\n",
    "    if name == \"kidney_3_dense\":\n",
    "        continue\n",
    "    image_folder = f'{TRAIN_FOLDER}/{name}/images'\n",
    "    images = [img for img in os.listdir(image_folder) if img.endswith(\".tif\")]\n",
    "    frame = cv2.imread(os.path.join(image_folder, images[0]))\n",
    "    print(f\"{name}: {frame.shape}\")\n"
   ]
  },
  {
   "cell_type": "markdown",
   "metadata": {},
   "source": [
    "Code below is from: https://www.kaggle.com/code/aniketkolte04/sennet-hoa-seg-pytorch-attention-gated-unet/notebook"
   ]
  },
  {
   "cell_type": "code",
   "execution_count": 4,
   "metadata": {},
   "outputs": [],
   "source": [
    "import torch\n",
    "import torch.nn as nn\n",
    "import numpy as np\n",
    "import torch.nn.functional as F\n",
    "import matplotlib.pyplot as plt\n",
    "from sklearn.model_selection import train_test_split\n",
    "from torch.utils.data import DataLoader\n",
    "from helpers.dataset_setup import CustomDataset, augment_image\n",
    "from helpers.train_test import train_and_test\n",
    "from torch.optim.lr_scheduler import ExponentialLR"
   ]
  },
  {
   "cell_type": "code",
   "execution_count": 5,
   "metadata": {},
   "outputs": [],
   "source": [
    "image_folder = f'{TRAIN_FOLDER}/kidney_2/images/'\n",
    "image_files = [os.path.join(image_folder, img) for img in os.listdir(image_folder) if img.endswith(\".tif\")]\n",
    "image_files.sort()\n",
    "labels_folder = f'{TRAIN_FOLDER}/kidney_2/labels/'\n",
    "label_files = [os.path.join(labels_folder, img) for img in os.listdir(labels_folder) if img.endswith(\".tif\")]\n",
    "label_files.sort()"
   ]
  },
  {
   "cell_type": "markdown",
   "metadata": {},
   "source": [
    "# Test overfitting to see if my model can learn anything"
   ]
  },
  {
   "cell_type": "code",
   "execution_count": 6,
   "metadata": {},
   "outputs": [],
   "source": [
    "N_IMAGES = 20\n",
    "start_image = 580\n",
    "image_files = image_files[start_image:(start_image+N_IMAGES)]\n",
    "label_files = label_files[start_image:(start_image+N_IMAGES)]"
   ]
  },
  {
   "cell_type": "code",
   "execution_count": 7,
   "metadata": {},
   "outputs": [],
   "source": [
    "train_image_files, val_image_files, train_mask_files, val_mask_files = train_test_split(\n",
    "    image_files, label_files, test_size=0.1, random_state=42)"
   ]
  },
  {
   "cell_type": "code",
   "execution_count": 8,
   "metadata": {},
   "outputs": [],
   "source": [
    "train_dataset = CustomDataset(train_image_files, train_mask_files, augmentation_transforms=augment_image, input_size=(512, 512))\n",
    "val_dataset = CustomDataset(val_image_files, val_mask_files, augmentation_transforms=augment_image, input_size=(512, 512))"
   ]
  },
  {
   "cell_type": "code",
   "execution_count": 9,
   "metadata": {},
   "outputs": [],
   "source": [
    "BATCH_SIZE = 1\n",
    "train_dataloader= DataLoader(train_dataset, batch_size=BATCH_SIZE, shuffle=False)\n",
    "val_dataloader = DataLoader(val_dataset, batch_size=BATCH_SIZE, shuffle=False)"
   ]
  },
  {
   "cell_type": "code",
   "execution_count": 10,
   "metadata": {},
   "outputs": [
    {
     "data": {
      "text/plain": [
       "device(type='cuda')"
      ]
     },
     "execution_count": 10,
     "metadata": {},
     "output_type": "execute_result"
    }
   ],
   "source": [
    "def get_default_device():\n",
    "    if torch.cuda.is_available():\n",
    "        return torch.device('cuda')\n",
    "    else:\n",
    "        return torch.device('cpu')\n",
    "device = get_default_device()\n",
    "device"
   ]
  },
  {
   "cell_type": "code",
   "execution_count": 11,
   "metadata": {},
   "outputs": [],
   "source": [
    "def init_weights(m):\n",
    "    if isinstance(m, nn.Conv2d):\n",
    "        torch.nn.init.kaiming_normal_(m.weight, mode='fan_out', nonlinearity='relu')\n",
    "        if m.bias is not None:\n",
    "            torch.nn.init.zeros_(m.bias)\n",
    "    elif isinstance(m, nn.BatchNorm2d):\n",
    "        torch.nn.init.ones_(m.weight)\n",
    "        torch.nn.init.zeros_(m.bias)\n",
    "    elif isinstance(m, nn.Linear):\n",
    "        torch.nn.init.zeros_(m.bias)\n",
    "\n",
    "class ConvBlock(nn.Module):\n",
    "    def __init__(self,in_channels, out_channels):\n",
    "        super().__init__()\n",
    "        self.conv = nn.Sequential(\n",
    "            nn.Conv2d(in_channels, out_channels, kernel_size=3, stride=1, padding=1, bias=True),\n",
    "            nn.BatchNorm2d(out_channels),\n",
    "            nn.GELU(),\n",
    "            nn.Conv2d(out_channels, out_channels, kernel_size=3, stride=1, padding=1, bias=True),\n",
    "            nn.BatchNorm2d(out_channels),\n",
    "            nn.GELU()\n",
    "        )\n",
    "        self.conv.apply(init_weights)\n",
    "\n",
    "    def forward(self,x):\n",
    "        x = self.conv(x)\n",
    "        return x\n",
    "    \n",
    "\n",
    "class UpConv(nn.Module):\n",
    "    def __init__(self, in_channels, out_channels):\n",
    "        super().__init__()\n",
    "        \n",
    "        self.up = nn.Sequential(\n",
    "            nn.Upsample(scale_factor=2),\n",
    "            nn.Conv2d(in_channels, out_channels, kernel_size=3, stride=1, padding=1, bias=True),\n",
    "            nn.BatchNorm2d(out_channels),\n",
    "            nn.GELU()\n",
    "        )\n",
    "        self.up.apply(init_weights)\n",
    "\n",
    "    def forward(self, x):\n",
    "        x = self.up(x)\n",
    "        return x\n",
    "    \n",
    "class AttentionBlock(nn.Module):\n",
    "    \"\"\"Attention block with learnable parameters\"\"\"\n",
    "\n",
    "    def __init__(self, F_g, F_l, n_coefficients):\n",
    "        super(AttentionBlock, self).__init__()\n",
    "\n",
    "        self.W_gate = nn.Sequential(\n",
    "            nn.Conv2d(F_g, n_coefficients, kernel_size=1, stride=1, padding=0, bias=True),\n",
    "            nn.BatchNorm2d(n_coefficients)\n",
    "        )\n",
    "\n",
    "        self.W_x = nn.Sequential(\n",
    "            nn.Conv2d(F_l, n_coefficients, kernel_size=1, stride=1, padding=0, bias=True),\n",
    "            nn.BatchNorm2d(n_coefficients)\n",
    "        )\n",
    "\n",
    "        self.psi = nn.Sequential(\n",
    "            nn.Conv2d(n_coefficients, 1, kernel_size=1, stride=1, padding=0, bias=True),\n",
    "            nn.BatchNorm2d(1),\n",
    "            nn.Sigmoid()\n",
    "        )\n",
    "\n",
    "        self.GELU = nn.GELU()\n",
    "\n",
    "    def forward(self, gate, skip_connection):\n",
    "\n",
    "        g1 = self.W_gate(gate)\n",
    "        x1 = self.W_x(skip_connection)\n",
    "        psi = self.GELU(g1 + x1)\n",
    "        psi = self.psi(psi)\n",
    "        out = skip_connection * psi\n",
    "        return out\n",
    "\n",
    "\n",
    "class AttentionUNet(nn.Module):\n",
    "\n",
    "    def __init__(self, img_ch=3, output_ch=1):\n",
    "        super(AttentionUNet, self).__init__()\n",
    "\n",
    "        self.MaxPool = nn.MaxPool2d(kernel_size=2, stride=2)\n",
    "\n",
    "        self.Conv1 = ConvBlock(img_ch, 64)\n",
    "        self.Conv2 = ConvBlock(64, 128)\n",
    "        self.Conv3 = ConvBlock(128, 256)\n",
    "        self.Conv4 = ConvBlock(256, 512)\n",
    "        self.Conv5 = ConvBlock(512, 1024)\n",
    "\n",
    "        self.Up5 = UpConv(1024, 512)\n",
    "        self.Att5 = AttentionBlock(F_g=512, F_l=512, n_coefficients=256)\n",
    "        self.UpConv5 = ConvBlock(1024, 512)\n",
    "\n",
    "        self.Up4 = UpConv(512, 256)\n",
    "        self.Att4 = AttentionBlock(F_g=256, F_l=256, n_coefficients=128)\n",
    "        self.UpConv4 = ConvBlock(512, 256)\n",
    "\n",
    "        self.Up3 = UpConv(256, 128)\n",
    "        self.Att3 = AttentionBlock(F_g=128, F_l=128, n_coefficients=64)\n",
    "        self.UpConv3 = ConvBlock(256, 128)\n",
    "\n",
    "        self.Up2 = UpConv(128, 64)\n",
    "        self.Att2 = AttentionBlock(F_g=64, F_l=64, n_coefficients=32)\n",
    "        self.UpConv2 = ConvBlock(128, 64)\n",
    "\n",
    "        self.Conv = nn.Conv2d(64, output_ch, kernel_size=1, stride=1, padding=0)\n",
    "\n",
    "    def forward(self, x):\n",
    "\n",
    "        e1 = self.Conv1(x)\n",
    "\n",
    "        e2 = self.MaxPool(e1)\n",
    "        e2 = self.Conv2(e2)\n",
    "\n",
    "        e3 = self.MaxPool(e2)\n",
    "        e3 = self.Conv3(e3)\n",
    "\n",
    "        e4 = self.MaxPool(e3)\n",
    "        e4 = self.Conv4(e4)\n",
    "\n",
    "        e5 = self.MaxPool(e4)\n",
    "        e5 = self.Conv5(e5)\n",
    "\n",
    "        d5 = self.Up5(e5)\n",
    "\n",
    "        s4 = self.Att5(gate=d5, skip_connection=e4)\n",
    "        d5 = torch.cat((s4, d5), dim=1) \n",
    "        d5 = self.UpConv5(d5)\n",
    "\n",
    "        d4 = self.Up4(d5)\n",
    "        s3 = self.Att4(gate=d4, skip_connection=e3)\n",
    "        d4 = torch.cat((s3, d4), dim=1)\n",
    "        d4 = self.UpConv4(d4)\n",
    "\n",
    "        d3 = self.Up3(d4)\n",
    "        s2 = self.Att3(gate=d3, skip_connection=e2)\n",
    "        d3 = torch.cat((s2, d3), dim=1)\n",
    "        d3 = self.UpConv3(d3)\n",
    "\n",
    "        d2 = self.Up2(d3)\n",
    "        s1 = self.Att2(gate=d2, skip_connection=e1)\n",
    "        d2 = torch.cat((s1, d2), dim=1)\n",
    "        d2 = self.UpConv2(d2)\n",
    "\n",
    "        out = self.Conv(d2)\n",
    "\n",
    "        return out"
   ]
  },
  {
   "cell_type": "code",
   "execution_count": 12,
   "metadata": {},
   "outputs": [],
   "source": [
    "class FocalLoss(nn.modules.loss._WeightedLoss):\n",
    "\n",
    "    def __init__(self, gamma=0, size_average=None, ignore_index=-100,\n",
    "                 reduce=None, balance_param=1.0):\n",
    "        super(FocalLoss, self).__init__(size_average)\n",
    "        self.gamma = gamma\n",
    "        self.size_average = size_average\n",
    "        self.ignore_index = ignore_index\n",
    "        self.balance_param = balance_param\n",
    "\n",
    "    def forward(self, input, target):\n",
    "        \n",
    "        assert len(input.shape) == len(target.shape)\n",
    "        assert input.size(0) == target.size(0)\n",
    "        assert input.size(1) == target.size(1)\n",
    "\n",
    "        logpt = - F.binary_cross_entropy_with_logits(input, target)\n",
    "        pt = torch.exp(logpt)\n",
    "\n",
    "        focal_loss = -((1 - pt) ** self.gamma) * logpt\n",
    "        balanced_focal_loss = self.balance_param * focal_loss\n",
    "        return balanced_focal_loss"
   ]
  },
  {
   "cell_type": "code",
   "execution_count": 13,
   "metadata": {},
   "outputs": [],
   "source": [
    "class DiceLoss(nn.Module):\n",
    "    def __init__(self, weight=None, size_average=True):\n",
    "        super(DiceLoss, self).__init__()\n",
    "\n",
    "    def forward(self, inputs, targets, smooth=1): \n",
    "        \n",
    "        #flatten label and prediction tensors\n",
    "        inputs = inputs.view(-1)\n",
    "        targets = targets.view(-1)\n",
    "        \n",
    "        intersection = (inputs * targets).sum()                            \n",
    "        dice = (2.*intersection + smooth)/(inputs.sum() + targets.sum() + smooth)  \n",
    "        \n",
    "        return 1 - dice\n",
    "    \n",
    "def dice_coeff(prediction, target):\n",
    "\n",
    "    mask = np.zeros_like(prediction)\n",
    "    mask[prediction >= 0.5] = 1\n",
    "\n",
    "    inter = np.sum(mask * target)\n",
    "    union = np.sum(mask) + np.sum(target)\n",
    "    epsilon = 1e-6\n",
    "    result = np.mean(2 * inter / (union + epsilon))\n",
    "    return result"
   ]
  },
  {
   "cell_type": "code",
   "execution_count": 14,
   "metadata": {},
   "outputs": [],
   "source": [
    "dataloaders = {\n",
    "    'train': train_dataloader,\n",
    "    'val': val_dataloader\n",
    "}"
   ]
  },
  {
   "cell_type": "code",
   "execution_count": 15,
   "metadata": {},
   "outputs": [],
   "source": [
    "epochs = 200\n",
    "lr = 1e-4\n",
    "mom = 0\n",
    "damp = 0\n",
    "decay = 0\n",
    "nesterov = False\n",
    "lr_decay = 0.99\n",
    "grad_clip_bound = .1"
   ]
  },
  {
   "cell_type": "code",
   "execution_count": 16,
   "metadata": {},
   "outputs": [
    {
     "data": {
      "text/html": [
       "Tracking run with wandb version 0.16.1"
      ],
      "text/plain": [
       "<IPython.core.display.HTML object>"
      ]
     },
     "metadata": {},
     "output_type": "display_data"
    },
    {
     "data": {
      "text/html": [
       "Run data is saved locally in <code>/workspaces/segment_vasculature/models/wandb/run-20240109_193757-zvq02ohi</code>"
      ],
      "text/plain": [
       "<IPython.core.display.HTML object>"
      ]
     },
     "metadata": {},
     "output_type": "display_data"
    },
    {
     "data": {
      "text/html": [
       "Syncing run <strong><a href='https://wandb.ai/timothy-lindblom/custom_seg_vasculature/runs/zvq02ohi' target=\"_blank\">crisp-sunset-41</a></strong> to <a href='https://wandb.ai/timothy-lindblom/custom_seg_vasculature' target=\"_blank\">Weights & Biases</a> (<a href='https://wandb.me/run' target=\"_blank\">docs</a>)<br/>"
      ],
      "text/plain": [
       "<IPython.core.display.HTML object>"
      ]
     },
     "metadata": {},
     "output_type": "display_data"
    },
    {
     "data": {
      "text/html": [
       " View project at <a href='https://wandb.ai/timothy-lindblom/custom_seg_vasculature' target=\"_blank\">https://wandb.ai/timothy-lindblom/custom_seg_vasculature</a>"
      ],
      "text/plain": [
       "<IPython.core.display.HTML object>"
      ]
     },
     "metadata": {},
     "output_type": "display_data"
    },
    {
     "data": {
      "text/html": [
       " View run at <a href='https://wandb.ai/timothy-lindblom/custom_seg_vasculature/runs/zvq02ohi' target=\"_blank\">https://wandb.ai/timothy-lindblom/custom_seg_vasculature/runs/zvq02ohi</a>"
      ],
      "text/plain": [
       "<IPython.core.display.HTML object>"
      ]
     },
     "metadata": {},
     "output_type": "display_data"
    }
   ],
   "source": [
    "run = wandb.init(\n",
    "    project=\"custom_seg_vasculature\",\n",
    "    config={\n",
    "        \"architechture\": \"CNN\",\n",
    "        \"optimizer\": \"SGD\",\n",
    "        \"learning_rate\": lr,\n",
    "        \"momentum\": mom,\n",
    "        \"damp\": damp,\n",
    "        \"decay\": decay,\n",
    "        \"epochs\": epochs,\n",
    "        \"batch_size\": BATCH_SIZE,\n",
    "        \"loss_function\": \"dice\",\n",
    "        \"nesterov\": nesterov,\n",
    "        \"scheduler\": \"ExpLR\",\n",
    "        \"gamma\": lr_decay,\n",
    "        \"gradient_clipping\": \"True\",\n",
    "        \"gradient_clip_bound\": grad_clip_bound,\n",
    "        #\"norm_grad_clip\": \"True\",\n",
    "        \"kaiming_init_conv_blocks\": \"True\",\n",
    "    }\n",
    ")"
   ]
  },
  {
   "cell_type": "code",
   "execution_count": 17,
   "metadata": {},
   "outputs": [
    {
     "name": "stdout",
     "output_type": "stream",
     "text": [
      "Epoch 1/200\n",
      "----------\n",
      "Input: torch.Size([1, 3, 512, 512])\n",
      "Output: torch.Size([1, 1, 512, 512])\n",
      "Mask: torch.Size([1, 512, 512])\n",
      "Input: torch.Size([1, 3, 512, 512])\n",
      "Output: torch.Size([1, 1, 512, 512])\n",
      "Mask: torch.Size([1, 512, 512])\n",
      "Input: torch.Size([1, 3, 512, 512])\n",
      "Output: torch.Size([1, 1, 512, 512])\n",
      "Mask: torch.Size([1, 512, 512])\n",
      "Input: torch.Size([1, 3, 512, 512])\n",
      "Output: torch.Size([1, 1, 512, 512])\n",
      "Mask: torch.Size([1, 512, 512])\n",
      "Input: torch.Size([1, 3, 512, 512])\n",
      "Output: torch.Size([1, 1, 512, 512])\n",
      "Mask: torch.Size([1, 512, 512])\n",
      "Input: torch.Size([1, 3, 512, 512])\n",
      "Output: torch.Size([1, 1, 512, 512])\n",
      "Mask: torch.Size([1, 512, 512])\n",
      "Input: torch.Size([1, 3, 512, 512])\n",
      "Output: torch.Size([1, 1, 512, 512])\n",
      "Mask: torch.Size([1, 512, 512])\n",
      "Input: torch.Size([1, 3, 512, 512])\n",
      "Output: torch.Size([1, 1, 512, 512])\n",
      "Mask: torch.Size([1, 512, 512])\n",
      "Input: torch.Size([1, 3, 512, 512])\n",
      "Output: torch.Size([1, 1, 512, 512])\n",
      "Mask: torch.Size([1, 512, 512])\n",
      "Input: torch.Size([1, 3, 512, 512])\n",
      "Output: torch.Size([1, 1, 512, 512])\n",
      "Mask: torch.Size([1, 512, 512])\n",
      "Input: torch.Size([1, 3, 512, 512])\n",
      "Output: torch.Size([1, 1, 512, 512])\n",
      "Mask: torch.Size([1, 512, 512])\n",
      "Input: torch.Size([1, 3, 512, 512])\n",
      "Output: torch.Size([1, 1, 512, 512])\n",
      "Mask: torch.Size([1, 512, 512])\n",
      "Input: torch.Size([1, 3, 512, 512])\n",
      "Output: torch.Size([1, 1, 512, 512])\n",
      "Mask: torch.Size([1, 512, 512])\n",
      "Input: torch.Size([1, 3, 512, 512])\n",
      "Output: torch.Size([1, 1, 512, 512])\n",
      "Mask: torch.Size([1, 512, 512])\n",
      "Input: torch.Size([1, 3, 512, 512])\n",
      "Output: torch.Size([1, 1, 512, 512])\n",
      "Mask: torch.Size([1, 512, 512])\n",
      "Input: torch.Size([1, 3, 512, 512])\n",
      "Output: torch.Size([1, 1, 512, 512])\n",
      "Mask: torch.Size([1, 512, 512])\n",
      "Input: torch.Size([1, 3, 512, 512])\n",
      "Output: torch.Size([1, 1, 512, 512])\n",
      "Mask: torch.Size([1, 512, 512])\n",
      "Input: torch.Size([1, 3, 512, 512])\n",
      "Output: torch.Size([1, 1, 512, 512])\n",
      "Mask: torch.Size([1, 512, 512])\n",
      "train Loss: 1.0733\n",
      "Input: torch.Size([1, 3, 512, 512])\n",
      "Output: torch.Size([1, 1, 512, 512])\n",
      "Mask: torch.Size([1, 512, 512])\n",
      "Input: torch.Size([1, 3, 512, 512])\n",
      "Output: torch.Size([1, 1, 512, 512])\n",
      "Mask: torch.Size([1, 512, 512])\n",
      "val Loss: 0.9931\n",
      "\t\t\t train_dice_coeff: 0.03737477628262326, val_dice_coeff: 0.0\n",
      "Epoch 2/200\n",
      "----------\n",
      "Input: torch.Size([1, 3, 512, 512])\n",
      "Output: torch.Size([1, 1, 512, 512])\n",
      "Mask: torch.Size([1, 512, 512])\n",
      "Input: torch.Size([1, 3, 512, 512])\n",
      "Output: torch.Size([1, 1, 512, 512])\n",
      "Mask: torch.Size([1, 512, 512])\n",
      "Input: torch.Size([1, 3, 512, 512])\n",
      "Output: torch.Size([1, 1, 512, 512])\n",
      "Mask: torch.Size([1, 512, 512])\n",
      "Input: torch.Size([1, 3, 512, 512])\n",
      "Output: torch.Size([1, 1, 512, 512])\n",
      "Mask: torch.Size([1, 512, 512])\n",
      "Input: torch.Size([1, 3, 512, 512])\n",
      "Output: torch.Size([1, 1, 512, 512])\n",
      "Mask: torch.Size([1, 512, 512])\n",
      "Input: torch.Size([1, 3, 512, 512])\n",
      "Output: torch.Size([1, 1, 512, 512])\n",
      "Mask: torch.Size([1, 512, 512])\n",
      "Input: torch.Size([1, 3, 512, 512])\n",
      "Output: torch.Size([1, 1, 512, 512])\n",
      "Mask: torch.Size([1, 512, 512])\n",
      "Input: torch.Size([1, 3, 512, 512])\n",
      "Output: torch.Size([1, 1, 512, 512])\n",
      "Mask: torch.Size([1, 512, 512])\n",
      "Input: torch.Size([1, 3, 512, 512])\n",
      "Output: torch.Size([1, 1, 512, 512])\n",
      "Mask: torch.Size([1, 512, 512])\n",
      "Input: torch.Size([1, 3, 512, 512])\n",
      "Output: torch.Size([1, 1, 512, 512])\n",
      "Mask: torch.Size([1, 512, 512])\n",
      "Input: torch.Size([1, 3, 512, 512])\n",
      "Output: torch.Size([1, 1, 512, 512])\n",
      "Mask: torch.Size([1, 512, 512])\n",
      "Input: torch.Size([1, 3, 512, 512])\n",
      "Output: torch.Size([1, 1, 512, 512])\n",
      "Mask: torch.Size([1, 512, 512])\n",
      "Input: torch.Size([1, 3, 512, 512])\n",
      "Output: torch.Size([1, 1, 512, 512])\n",
      "Mask: torch.Size([1, 512, 512])\n",
      "Input: torch.Size([1, 3, 512, 512])\n",
      "Output: torch.Size([1, 1, 512, 512])\n",
      "Mask: torch.Size([1, 512, 512])\n",
      "Input: torch.Size([1, 3, 512, 512])\n",
      "Output: torch.Size([1, 1, 512, 512])\n",
      "Mask: torch.Size([1, 512, 512])\n",
      "Input: torch.Size([1, 3, 512, 512])\n",
      "Output: torch.Size([1, 1, 512, 512])\n",
      "Mask: torch.Size([1, 512, 512])\n",
      "Input: torch.Size([1, 3, 512, 512])\n",
      "Output: torch.Size([1, 1, 512, 512])\n",
      "Mask: torch.Size([1, 512, 512])\n",
      "Input: torch.Size([1, 3, 512, 512])\n",
      "Output: torch.Size([1, 1, 512, 512])\n",
      "Mask: torch.Size([1, 512, 512])\n",
      "train Loss: 0.8691\n",
      "Input: torch.Size([1, 3, 512, 512])\n",
      "Output: torch.Size([1, 1, 512, 512])\n",
      "Mask: torch.Size([1, 512, 512])\n",
      "Input: torch.Size([1, 3, 512, 512])\n",
      "Output: torch.Size([1, 1, 512, 512])\n",
      "Mask: torch.Size([1, 512, 512])\n",
      "val Loss: 0.9928\n",
      "\t\t\t train_dice_coeff: 0.04041781965522973, val_dice_coeff: 0.0\n",
      "Epoch 3/200\n",
      "----------\n",
      "Input: torch.Size([1, 3, 512, 512])\n",
      "Output: torch.Size([1, 1, 512, 512])\n",
      "Mask: torch.Size([1, 512, 512])\n",
      "Input: torch.Size([1, 3, 512, 512])\n",
      "Output: torch.Size([1, 1, 512, 512])\n",
      "Mask: torch.Size([1, 512, 512])\n",
      "Input: torch.Size([1, 3, 512, 512])\n",
      "Output: torch.Size([1, 1, 512, 512])\n",
      "Mask: torch.Size([1, 512, 512])\n",
      "Input: torch.Size([1, 3, 512, 512])\n",
      "Output: torch.Size([1, 1, 512, 512])\n",
      "Mask: torch.Size([1, 512, 512])\n",
      "Input: torch.Size([1, 3, 512, 512])\n",
      "Output: torch.Size([1, 1, 512, 512])\n",
      "Mask: torch.Size([1, 512, 512])\n",
      "Input: torch.Size([1, 3, 512, 512])\n",
      "Output: torch.Size([1, 1, 512, 512])\n",
      "Mask: torch.Size([1, 512, 512])\n",
      "Input: torch.Size([1, 3, 512, 512])\n",
      "Output: torch.Size([1, 1, 512, 512])\n",
      "Mask: torch.Size([1, 512, 512])\n",
      "Input: torch.Size([1, 3, 512, 512])\n",
      "Output: torch.Size([1, 1, 512, 512])\n",
      "Mask: torch.Size([1, 512, 512])\n",
      "Input: torch.Size([1, 3, 512, 512])\n",
      "Output: torch.Size([1, 1, 512, 512])\n",
      "Mask: torch.Size([1, 512, 512])\n",
      "Input: torch.Size([1, 3, 512, 512])\n",
      "Output: torch.Size([1, 1, 512, 512])\n",
      "Mask: torch.Size([1, 512, 512])\n",
      "Input: torch.Size([1, 3, 512, 512])\n",
      "Output: torch.Size([1, 1, 512, 512])\n",
      "Mask: torch.Size([1, 512, 512])\n",
      "Input: torch.Size([1, 3, 512, 512])\n",
      "Output: torch.Size([1, 1, 512, 512])\n",
      "Mask: torch.Size([1, 512, 512])\n",
      "Input: torch.Size([1, 3, 512, 512])\n",
      "Output: torch.Size([1, 1, 512, 512])\n",
      "Mask: torch.Size([1, 512, 512])\n",
      "Input: torch.Size([1, 3, 512, 512])\n",
      "Output: torch.Size([1, 1, 512, 512])\n",
      "Mask: torch.Size([1, 512, 512])\n",
      "Input: torch.Size([1, 3, 512, 512])\n",
      "Output: torch.Size([1, 1, 512, 512])\n",
      "Mask: torch.Size([1, 512, 512])\n",
      "Input: torch.Size([1, 3, 512, 512])\n",
      "Output: torch.Size([1, 1, 512, 512])\n",
      "Mask: torch.Size([1, 512, 512])\n",
      "Input: torch.Size([1, 3, 512, 512])\n",
      "Output: torch.Size([1, 1, 512, 512])\n",
      "Mask: torch.Size([1, 512, 512])\n",
      "Input: torch.Size([1, 3, 512, 512])\n",
      "Output: torch.Size([1, 1, 512, 512])\n",
      "Mask: torch.Size([1, 512, 512])\n",
      "train Loss: 1.2482\n",
      "Input: torch.Size([1, 3, 512, 512])\n",
      "Output: torch.Size([1, 1, 512, 512])\n",
      "Mask: torch.Size([1, 512, 512])\n",
      "Input: torch.Size([1, 3, 512, 512])\n",
      "Output: torch.Size([1, 1, 512, 512])\n",
      "Mask: torch.Size([1, 512, 512])\n",
      "val Loss: 0.9934\n",
      "\t\t\t train_dice_coeff: 0.021458446230731114, val_dice_coeff: 0.0\n",
      "Epoch 4/200\n",
      "----------\n",
      "Input: torch.Size([1, 3, 512, 512])\n",
      "Output: torch.Size([1, 1, 512, 512])\n",
      "Mask: torch.Size([1, 512, 512])\n",
      "Input: torch.Size([1, 3, 512, 512])\n",
      "Output: torch.Size([1, 1, 512, 512])\n",
      "Mask: torch.Size([1, 512, 512])\n",
      "Input: torch.Size([1, 3, 512, 512])\n",
      "Output: torch.Size([1, 1, 512, 512])\n",
      "Mask: torch.Size([1, 512, 512])\n",
      "Input: torch.Size([1, 3, 512, 512])\n",
      "Output: torch.Size([1, 1, 512, 512])\n",
      "Mask: torch.Size([1, 512, 512])\n",
      "Input: torch.Size([1, 3, 512, 512])\n",
      "Output: torch.Size([1, 1, 512, 512])\n",
      "Mask: torch.Size([1, 512, 512])\n",
      "Input: torch.Size([1, 3, 512, 512])\n",
      "Output: torch.Size([1, 1, 512, 512])\n",
      "Mask: torch.Size([1, 512, 512])\n",
      "Input: torch.Size([1, 3, 512, 512])\n",
      "Output: torch.Size([1, 1, 512, 512])\n",
      "Mask: torch.Size([1, 512, 512])\n",
      "Input: torch.Size([1, 3, 512, 512])\n",
      "Output: torch.Size([1, 1, 512, 512])\n",
      "Mask: torch.Size([1, 512, 512])\n",
      "Input: torch.Size([1, 3, 512, 512])\n",
      "Output: torch.Size([1, 1, 512, 512])\n",
      "Mask: torch.Size([1, 512, 512])\n",
      "Input: torch.Size([1, 3, 512, 512])\n",
      "Output: torch.Size([1, 1, 512, 512])\n",
      "Mask: torch.Size([1, 512, 512])\n",
      "Input: torch.Size([1, 3, 512, 512])\n",
      "Output: torch.Size([1, 1, 512, 512])\n",
      "Mask: torch.Size([1, 512, 512])\n",
      "Input: torch.Size([1, 3, 512, 512])\n",
      "Output: torch.Size([1, 1, 512, 512])\n",
      "Mask: torch.Size([1, 512, 512])\n",
      "Input: torch.Size([1, 3, 512, 512])\n",
      "Output: torch.Size([1, 1, 512, 512])\n",
      "Mask: torch.Size([1, 512, 512])\n",
      "Input: torch.Size([1, 3, 512, 512])\n",
      "Output: torch.Size([1, 1, 512, 512])\n",
      "Mask: torch.Size([1, 512, 512])\n",
      "Input: torch.Size([1, 3, 512, 512])\n",
      "Output: torch.Size([1, 1, 512, 512])\n",
      "Mask: torch.Size([1, 512, 512])\n",
      "Input: torch.Size([1, 3, 512, 512])\n",
      "Output: torch.Size([1, 1, 512, 512])\n",
      "Mask: torch.Size([1, 512, 512])\n",
      "Input: torch.Size([1, 3, 512, 512])\n",
      "Output: torch.Size([1, 1, 512, 512])\n",
      "Mask: torch.Size([1, 512, 512])\n",
      "Input: torch.Size([1, 3, 512, 512])\n",
      "Output: torch.Size([1, 1, 512, 512])\n",
      "Mask: torch.Size([1, 512, 512])\n",
      "train Loss: 1.0758\n",
      "Input: torch.Size([1, 3, 512, 512])\n",
      "Output: torch.Size([1, 1, 512, 512])\n",
      "Mask: torch.Size([1, 512, 512])\n",
      "Input: torch.Size([1, 3, 512, 512])\n",
      "Output: torch.Size([1, 1, 512, 512])\n",
      "Mask: torch.Size([1, 512, 512])\n",
      "val Loss: 0.9952\n",
      "\t\t\t train_dice_coeff: 0.016745926670982725, val_dice_coeff: 0.01657730495467847\n",
      "Epoch 5/200\n",
      "----------\n",
      "Input: torch.Size([1, 3, 512, 512])\n",
      "Output: torch.Size([1, 1, 512, 512])\n",
      "Mask: torch.Size([1, 512, 512])\n",
      "Input: torch.Size([1, 3, 512, 512])\n",
      "Output: torch.Size([1, 1, 512, 512])\n",
      "Mask: torch.Size([1, 512, 512])\n",
      "Input: torch.Size([1, 3, 512, 512])\n",
      "Output: torch.Size([1, 1, 512, 512])\n",
      "Mask: torch.Size([1, 512, 512])\n",
      "Input: torch.Size([1, 3, 512, 512])\n",
      "Output: torch.Size([1, 1, 512, 512])\n",
      "Mask: torch.Size([1, 512, 512])\n",
      "Input: torch.Size([1, 3, 512, 512])\n",
      "Output: torch.Size([1, 1, 512, 512])\n",
      "Mask: torch.Size([1, 512, 512])\n",
      "Input: torch.Size([1, 3, 512, 512])\n",
      "Output: torch.Size([1, 1, 512, 512])\n",
      "Mask: torch.Size([1, 512, 512])\n",
      "Input: torch.Size([1, 3, 512, 512])\n",
      "Output: torch.Size([1, 1, 512, 512])\n",
      "Mask: torch.Size([1, 512, 512])\n",
      "Input: torch.Size([1, 3, 512, 512])\n",
      "Output: torch.Size([1, 1, 512, 512])\n",
      "Mask: torch.Size([1, 512, 512])\n",
      "Input: torch.Size([1, 3, 512, 512])\n",
      "Output: torch.Size([1, 1, 512, 512])\n",
      "Mask: torch.Size([1, 512, 512])\n",
      "Input: torch.Size([1, 3, 512, 512])\n",
      "Output: torch.Size([1, 1, 512, 512])\n",
      "Mask: torch.Size([1, 512, 512])\n",
      "Input: torch.Size([1, 3, 512, 512])\n",
      "Output: torch.Size([1, 1, 512, 512])\n",
      "Mask: torch.Size([1, 512, 512])\n",
      "Input: torch.Size([1, 3, 512, 512])\n",
      "Output: torch.Size([1, 1, 512, 512])\n",
      "Mask: torch.Size([1, 512, 512])\n",
      "Input: torch.Size([1, 3, 512, 512])\n",
      "Output: torch.Size([1, 1, 512, 512])\n",
      "Mask: torch.Size([1, 512, 512])\n",
      "Input: torch.Size([1, 3, 512, 512])\n",
      "Output: torch.Size([1, 1, 512, 512])\n",
      "Mask: torch.Size([1, 512, 512])\n",
      "Input: torch.Size([1, 3, 512, 512])\n",
      "Output: torch.Size([1, 1, 512, 512])\n",
      "Mask: torch.Size([1, 512, 512])\n",
      "Input: torch.Size([1, 3, 512, 512])\n",
      "Output: torch.Size([1, 1, 512, 512])\n",
      "Mask: torch.Size([1, 512, 512])\n",
      "Input: torch.Size([1, 3, 512, 512])\n",
      "Output: torch.Size([1, 1, 512, 512])\n",
      "Mask: torch.Size([1, 512, 512])\n",
      "Input: torch.Size([1, 3, 512, 512])\n",
      "Output: torch.Size([1, 1, 512, 512])\n",
      "Mask: torch.Size([1, 512, 512])\n",
      "train Loss: 1.0091\n",
      "Input: torch.Size([1, 3, 512, 512])\n",
      "Output: torch.Size([1, 1, 512, 512])\n",
      "Mask: torch.Size([1, 512, 512])\n",
      "Input: torch.Size([1, 3, 512, 512])\n",
      "Output: torch.Size([1, 1, 512, 512])\n",
      "Mask: torch.Size([1, 512, 512])\n",
      "val Loss: 0.9886\n",
      "\t\t\t train_dice_coeff: 0.025378982645207056, val_dice_coeff: 0.02924547286807207\n",
      "Epoch 6/200\n",
      "----------\n",
      "Input: torch.Size([1, 3, 512, 512])\n",
      "Output: torch.Size([1, 1, 512, 512])\n",
      "Mask: torch.Size([1, 512, 512])\n",
      "Input: torch.Size([1, 3, 512, 512])\n",
      "Output: torch.Size([1, 1, 512, 512])\n",
      "Mask: torch.Size([1, 512, 512])\n",
      "Input: torch.Size([1, 3, 512, 512])\n",
      "Output: torch.Size([1, 1, 512, 512])\n",
      "Mask: torch.Size([1, 512, 512])\n",
      "Input: torch.Size([1, 3, 512, 512])\n",
      "Output: torch.Size([1, 1, 512, 512])\n",
      "Mask: torch.Size([1, 512, 512])\n",
      "Input: torch.Size([1, 3, 512, 512])\n",
      "Output: torch.Size([1, 1, 512, 512])\n",
      "Mask: torch.Size([1, 512, 512])\n",
      "Input: torch.Size([1, 3, 512, 512])\n",
      "Output: torch.Size([1, 1, 512, 512])\n",
      "Mask: torch.Size([1, 512, 512])\n",
      "Input: torch.Size([1, 3, 512, 512])\n",
      "Output: torch.Size([1, 1, 512, 512])\n",
      "Mask: torch.Size([1, 512, 512])\n",
      "Input: torch.Size([1, 3, 512, 512])\n",
      "Output: torch.Size([1, 1, 512, 512])\n",
      "Mask: torch.Size([1, 512, 512])\n",
      "Input: torch.Size([1, 3, 512, 512])\n",
      "Output: torch.Size([1, 1, 512, 512])\n",
      "Mask: torch.Size([1, 512, 512])\n",
      "Input: torch.Size([1, 3, 512, 512])\n",
      "Output: torch.Size([1, 1, 512, 512])\n",
      "Mask: torch.Size([1, 512, 512])\n",
      "Input: torch.Size([1, 3, 512, 512])\n",
      "Output: torch.Size([1, 1, 512, 512])\n",
      "Mask: torch.Size([1, 512, 512])\n",
      "Input: torch.Size([1, 3, 512, 512])\n",
      "Output: torch.Size([1, 1, 512, 512])\n",
      "Mask: torch.Size([1, 512, 512])\n"
     ]
    },
    {
     "ename": "KeyboardInterrupt",
     "evalue": "",
     "output_type": "error",
     "traceback": [
      "\u001b[0;31m---------------------------------------------------------------------------\u001b[0m",
      "\u001b[0;31mKeyboardInterrupt\u001b[0m                         Traceback (most recent call last)",
      "Cell \u001b[0;32mIn[17], line 18\u001b[0m\n\u001b[1;32m     15\u001b[0m     trained_model, train_epoch_losses, test_epoch_losses \u001b[38;5;241m=\u001b[39m train_and_test(model, dataloaders, optimizer, criterion, num_epochs\u001b[38;5;241m=\u001b[39mepochs, show_images\u001b[38;5;241m=\u001b[39m\u001b[38;5;28;01mTrue\u001b[39;00m, scheduler\u001b[38;5;241m=\u001b[39mscheduler, max_norm\u001b[38;5;241m=\u001b[39mgrad_clip_bound)\n\u001b[1;32m     16\u001b[0m     \u001b[38;5;28;01mreturn\u001b[39;00m trained_model, train_epoch_losses, test_epoch_losses\n\u001b[0;32m---> 18\u001b[0m trained_model, train_epoch_losses, test_epoch_losses \u001b[38;5;241m=\u001b[39m \u001b[43mtrain\u001b[49m\u001b[43m(\u001b[49m\u001b[43m)\u001b[49m\n\u001b[1;32m     19\u001b[0m \u001b[38;5;66;03m#torch.save(trained_model.state_dict(), 'lower_learning_rate_100.pth')\u001b[39;00m\n",
      "Cell \u001b[0;32mIn[17], line 15\u001b[0m, in \u001b[0;36mtrain\u001b[0;34m()\u001b[0m\n\u001b[1;32m     13\u001b[0m criterion \u001b[38;5;241m=\u001b[39m DiceLoss()\n\u001b[1;32m     14\u001b[0m run\u001b[38;5;241m.\u001b[39mwatch(models\u001b[38;5;241m=\u001b[39mmodel, log\u001b[38;5;241m=\u001b[39m\u001b[38;5;124m\"\u001b[39m\u001b[38;5;124mall\u001b[39m\u001b[38;5;124m\"\u001b[39m, log_freq\u001b[38;5;241m=\u001b[39mN_IMAGES\u001b[38;5;241m*\u001b[39m\u001b[38;5;241m2\u001b[39m\u001b[38;5;241m/\u001b[39mBATCH_SIZE)\n\u001b[0;32m---> 15\u001b[0m trained_model, train_epoch_losses, test_epoch_losses \u001b[38;5;241m=\u001b[39m \u001b[43mtrain_and_test\u001b[49m\u001b[43m(\u001b[49m\u001b[43mmodel\u001b[49m\u001b[43m,\u001b[49m\u001b[43m \u001b[49m\u001b[43mdataloaders\u001b[49m\u001b[43m,\u001b[49m\u001b[43m \u001b[49m\u001b[43moptimizer\u001b[49m\u001b[43m,\u001b[49m\u001b[43m \u001b[49m\u001b[43mcriterion\u001b[49m\u001b[43m,\u001b[49m\u001b[43m \u001b[49m\u001b[43mnum_epochs\u001b[49m\u001b[38;5;241;43m=\u001b[39;49m\u001b[43mepochs\u001b[49m\u001b[43m,\u001b[49m\u001b[43m \u001b[49m\u001b[43mshow_images\u001b[49m\u001b[38;5;241;43m=\u001b[39;49m\u001b[38;5;28;43;01mTrue\u001b[39;49;00m\u001b[43m,\u001b[49m\u001b[43m \u001b[49m\u001b[43mscheduler\u001b[49m\u001b[38;5;241;43m=\u001b[39;49m\u001b[43mscheduler\u001b[49m\u001b[43m,\u001b[49m\u001b[43m \u001b[49m\u001b[43mmax_norm\u001b[49m\u001b[38;5;241;43m=\u001b[39;49m\u001b[43mgrad_clip_bound\u001b[49m\u001b[43m)\u001b[49m\n\u001b[1;32m     16\u001b[0m \u001b[38;5;28;01mreturn\u001b[39;00m trained_model, train_epoch_losses, test_epoch_losses\n",
      "File \u001b[0;32m/workspaces/segment_vasculature/models/helpers/train_test.py:92\u001b[0m, in \u001b[0;36mtrain_and_test\u001b[0;34m(model, dataloaders, optimizer, criterion, w_b, scheduler, num_epochs, show_images, max_norm)\u001b[0m\n\u001b[1;32m     89\u001b[0m clip_grad_value_(model\u001b[38;5;241m.\u001b[39mparameters(), clip_value\u001b[38;5;241m=\u001b[39mmax_norm)\n\u001b[1;32m     90\u001b[0m optimizer\u001b[38;5;241m.\u001b[39mstep()\n\u001b[0;32m---> 92\u001b[0m batch_train_loss \u001b[38;5;241m+\u001b[39m\u001b[38;5;241m=\u001b[39m \u001b[43mloss\u001b[49m\u001b[38;5;241;43m.\u001b[39;49m\u001b[43mitem\u001b[49m\u001b[43m(\u001b[49m\u001b[43m)\u001b[49m \u001b[38;5;241m*\u001b[39m sample[\u001b[38;5;241m0\u001b[39m]\u001b[38;5;241m.\u001b[39msize(\u001b[38;5;241m0\u001b[39m)\n\u001b[1;32m     93\u001b[0m \u001b[38;5;28;01mif\u001b[39;00m show_images \u001b[38;5;129;01mand\u001b[39;00m \u001b[38;5;129;01mnot\u001b[39;00m plotted_train_sample:\n\u001b[1;32m     94\u001b[0m     plot_images(sample, outputs, epoch, i, phase)\n",
      "\u001b[0;31mKeyboardInterrupt\u001b[0m: "
     ]
    }
   ],
   "source": [
    "def train():\n",
    "    model = AttentionUNet()\n",
    "    for n, p in model.named_parameters():\n",
    "        if \"Conv1\" in n:\n",
    "            p.register_hook(lambda grad: torch.clamp(grad, -grad_clip_bound*10, grad_clip_bound*10))\n",
    "        else:\n",
    "            p.register_hook(lambda grad: torch.clamp(grad, -grad_clip_bound, grad_clip_bound))\n",
    "\n",
    "    #model.load_state_dict(torch.load('custom_trained_75.pth'))  \n",
    "    optimizer = torch.optim.SGD(model.parameters(), lr=lr, momentum=mom, dampening=damp, weight_decay=decay, nesterov=nesterov)\n",
    "    scheduler = ExponentialLR(optimizer, gamma=lr_decay)\n",
    "    #torch.optim.Adam(model.parameters())\n",
    "    criterion = DiceLoss()\n",
    "    run.watch(models=model, log=\"all\", log_freq=N_IMAGES*2/BATCH_SIZE)\n",
    "    trained_model, train_epoch_losses, test_epoch_losses = train_and_test(model, dataloaders, optimizer, criterion, num_epochs=epochs, show_images=True, scheduler=scheduler, max_norm=grad_clip_bound)\n",
    "    return trained_model, train_epoch_losses, test_epoch_losses\n",
    "\n",
    "trained_model, train_epoch_losses, test_epoch_losses = train()\n",
    "#torch.save(trained_model.state_dict(), 'lower_learning_rate_100.pth')"
   ]
  },
  {
   "cell_type": "code",
   "execution_count": 18,
   "metadata": {},
   "outputs": [
    {
     "name": "stderr",
     "output_type": "stream",
     "text": [
      "wandb: WARNING Source type is set to 'repo' but some required information is missing from the environment. A job will not be created from this run. See https://docs.wandb.ai/guides/launch/create-job\n"
     ]
    },
    {
     "data": {
      "text/html": [
       " View run <strong style=\"color:#cdcd00\">crisp-sunset-41</strong> at: <a href='https://wandb.ai/timothy-lindblom/custom_seg_vasculature/runs/zvq02ohi' target=\"_blank\">https://wandb.ai/timothy-lindblom/custom_seg_vasculature/runs/zvq02ohi</a><br/>Synced 5 W&B file(s), 0 media file(s), 0 artifact file(s) and 0 other file(s)"
      ],
      "text/plain": [
       "<IPython.core.display.HTML object>"
      ]
     },
     "metadata": {},
     "output_type": "display_data"
    },
    {
     "data": {
      "text/html": [
       "Find logs at: <code>./wandb/run-20240109_193757-zvq02ohi/logs</code>"
      ],
      "text/plain": [
       "<IPython.core.display.HTML object>"
      ]
     },
     "metadata": {},
     "output_type": "display_data"
    }
   ],
   "source": [
    "wandb.finish()"
   ]
  },
  {
   "cell_type": "markdown",
   "metadata": {},
   "source": [
    "Turns out that model fails to overfit on just training data. This suggests a bug somewhere or issues with the data representation or just too high learning rate as I once saw the model go from ok scores to horrible."
   ]
  },
  {
   "cell_type": "code",
   "execution_count": null,
   "metadata": {},
   "outputs": [
    {
     "data": {
      "image/png": "[encoded data removed]",
      "text/plain": [
       "<Figure size 640x480 with 1 Axes>"
      ]
     },
     "metadata": {},
     "output_type": "display_data"
    }
   ],
   "source": [
    "train_plot, = plt.plot(range(1, len(train_epoch_losses) + 1), train_epoch_losses, label='train loss')\n",
    "test_plot, = plt.plot(range(1, len(test_epoch_losses) + 1), test_epoch_losses, label='test loss')\n",
    "plt.legend(handles=[train_plot, test_plot])\n",
    "plt.xlabel('Epochs')\n",
    "plt.ylabel('Loss')\n",
    "plt.title('Training and Test Loss Over Epochs')\n",
    "plt.show() "
   ]
  },
  {
   "cell_type": "markdown",
   "metadata": {},
   "source": [
    "## Visual inspection the custom trained model."
   ]
  },
  {
   "cell_type": "code",
   "execution_count": null,
   "metadata": {},
   "outputs": [],
   "source": [
    "def eval_model(model):  \n",
    "    device = torch.device(\"cuda:0\" if torch.cuda.is_available() else \"cpu\")\n",
    "    model.to(device)"
   ]
  },
  {
   "cell_type": "code",
   "execution_count": null,
   "metadata": {},
   "outputs": [],
   "source": [
    "def eval():\n",
    "    model = AttentionUNet()\n",
    "    model.load_state_dict(torch.load('custom_trained_75.pth'))\n",
    "    optimizer = torch.optim.Adam(model.parameters(), lr = 1e5)\n",
    "    criterion = DiceLoss()"
   ]
  }
 ],
 "metadata": {
  "kernelspec": {
   "display_name": "Python 3",
   "language": "python",
   "name": "python3"
  },
  "language_info": {
   "codemirror_mode": {
    "name": "ipython",
    "version": 3
   },
   "file_extension": ".py",
   "mimetype": "text/x-python",
   "name": "python",
   "nbconvert_exporter": "python",
   "pygments_lexer": "ipython3",
   "version": "3.11.7"
  }
 },
 "nbformat": 4,
 "nbformat_minor": 2
}
