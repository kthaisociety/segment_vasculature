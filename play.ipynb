{
 "cells": [
  {
   "cell_type": "code",
   "execution_count": null,
   "metadata": {},
   "outputs": [],
   "source": [
    "# Use the python 3.11.7 interpreter /usr/local/bin/python\n",
    "import gradio as gr\n",
    "import numpy as np\n",
    "import cv2\n",
    "import os\n",
    "\n",
    "from models.helpers.dataset_setup import TRAIN_FOLDER"
   ]
  },
  {
   "cell_type": "code",
   "execution_count": null,
   "metadata": {},
   "outputs": [],
   "source": [
    "def movie_maker(image_folder, video_name):\n",
    "    images = [img for img in os.listdir(image_folder) if img.endswith(\".tif\")]\n",
    "    frame = cv2.imread(os.path.join(image_folder, images[0]))\n",
    "    height, width, layers = frame.shape\n",
    "\n",
    "    video = cv2.VideoWriter(video_name, 0, 5, (width,height))\n",
    "\n",
    "    for image in images:\n",
    "        video.write(cv2.imread(os.path.join(image_folder, image)))\n",
    "\n",
    "    cv2.destroyAllWindows()\n",
    "    video.release()\n",
    "\n",
    "# Get all folders in train/\n",
    "names = os.listdir(TRAIN_FOLDER)\n",
    "for name in names:\n",
    "    image_folder = f'{TRAIN_FOLDER}/{name}/images'\n",
    "    video_name = f'{name}.avi'\n",
    "    movie_maker(image_folder, video_name)"
   ]
  },
  {
   "cell_type": "code",
   "execution_count": null,
   "metadata": {},
   "outputs": [],
   "source": [
    "image_folder = f'{TRAIN_FOLDER}/kidney_3_sparse/images'\n",
    "video_name = 'kidney_3_sparse.avi'\n",
    "movie_maker(image_folder, video_name)"
   ]
  },
  {
   "cell_type": "code",
   "execution_count": null,
   "metadata": {},
   "outputs": [],
   "source": [
    "def overlay(x):\n",
    "    # TODO: overlay input and output images\n",
    "    pass\n",
    "with gr.Blocks() as demo:\n",
    "    with gr.Row():\n",
    "        img_input = gr.Image()\n",
    "        ann_image = gr.AnnotatedImage(\n",
    "            color_map={\"banana\": \"#a89a00\", \"carrot\": \"#ffae00\"}\n",
    "        )    \n",
    "\n",
    "\n",
    "demo = gr.Interface(overlay, [\n",
    "        gr.AnnotatedImage(1, 100, value=1, label=\"overlay\"),\n",
    "    ], \"image\")\n",
    "demo.launch()"
   ]
  }
 ],
 "metadata": {
  "kernelspec": {
   "display_name": "Python 3",
   "language": "python",
   "name": "python3"
  },
  "language_info": {
   "codemirror_mode": {
    "name": "ipython",
    "version": 3
   },
   "file_extension": ".py",
   "mimetype": "text/x-python",
   "name": "python",
   "nbconvert_exporter": "python",
   "pygments_lexer": "ipython3",
   "version": "3.11.7"
  }
 },
 "nbformat": 4,
 "nbformat_minor": 2
}
