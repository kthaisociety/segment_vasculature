{
 "cells": [
  {
   "cell_type": "code",
   "execution_count": 3,
   "metadata": {},
   "outputs": [],
   "source": [
    "from loss_functions import DiceLoss\n",
    "from train_test import train_and_test\n",
    "from dataset_setup import train_test_split, CustomDataset, augment_image, DataLoader\n",
    "\n",
    "from models.resnet import resnet50\n",
    "\n",
    "import os\n",
    "import torch\n"
   ]
  },
  {
   "cell_type": "code",
   "execution_count": null,
   "metadata": {},
   "outputs": [],
   "source": [
    "image_folder = f'../train/kidney_2/images/'\n",
    "image_files = [os.path.join(image_folder, img) for img in os.listdir(image_folder) if img.endswith(\".tif\")]\n",
    "image_files.sort()\n",
    "labels_folder = f'../train/kidney_2/labels/'\n",
    "label_files = [os.path.join(labels_folder, img) for img in os.listdir(labels_folder) if img.endswith(\".tif\")]\n",
    "label_files.sort()"
   ]
  },
  {
   "cell_type": "code",
   "execution_count": null,
   "metadata": {},
   "outputs": [],
   "source": [
    "train_image_files, val_image_files, train_mask_files, val_mask_files = train_test_split(\n",
    "    image_files, label_files, test_size=0.1, random_state=42)\n",
    "\n",
    "train_dataset = CustomDataset(train_image_files, train_mask_files, augmentation_transforms=augment_image, input_size=(256, 256))\n",
    "val_dataset = CustomDataset(val_image_files, val_mask_files, augmentation_transforms=augment_image, input_size=(256, 256))\n",
    "\n",
    "train_dataloader= DataLoader(train_dataset, batch_size=28, shuffle=True)\n",
    "val_dataloader = DataLoader(val_dataset, batch_size=28, shuffle=False)\n",
    "\n",
    "dataloaders = {\n",
    "    'train': train_dataloader,\n",
    "    'val': val_dataloader\n",
    "}"
   ]
  },
  {
   "cell_type": "code",
   "execution_count": null,
   "metadata": {},
   "outputs": [],
   "source": [
    "epochs = 5\n",
    "def train():\n",
    "    model = resnet50()\n",
    "    model.load_state_dict(torch.load('pretrain/resnet_50_23dataset.pth'))  \n",
    "    optimizer = torch.optim.Adam(model.parameters())\n",
    "    criterion = DiceLoss()\n",
    "    trained_model, train_epoch_losses, test_epoch_losses = train_and_test(model, dataloaders, optimizer, criterion, num_epochs=epochs, show_images=True)\n",
    "    return trained_model, train_epoch_losses, test_epoch_losses\n",
    "\n",
    "\n",
    "trained_model, train_epoch_losses, test_epoch_losses = train()\n",
    "#torch.save(trained_model.state_dict(), 'lower_learning_rate_100.pth')"
   ]
  }
 ],
 "metadata": {
  "kernelspec": {
   "display_name": "Python 3",
   "language": "python",
   "name": "python3"
  },
  "language_info": {
   "codemirror_mode": {
    "name": "ipython",
    "version": 3
   },
   "file_extension": ".py",
   "mimetype": "text/x-python",
   "name": "python",
   "nbconvert_exporter": "python",
   "pygments_lexer": "ipython3",
   "version": "3.11.7"
  }
 },
 "nbformat": 4,
 "nbformat_minor": 2
}
